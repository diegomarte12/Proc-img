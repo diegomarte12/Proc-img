{
 "cells": [
  {
   "cell_type": "markdown",
   "id": "c22c3a47",
   "metadata": {},
   "source": [
    "# PARCIAL 1 PROC. IMAGEN - DIEGO MARTELO"
   ]
  },
  {
   "cell_type": "markdown",
   "id": "9145a66c",
   "metadata": {},
   "source": [
    "## Importar librerias"
   ]
  },
  {
   "cell_type": "code",
   "execution_count": null,
   "id": "c0a690c5",
   "metadata": {},
   "outputs": [],
   "source": [
    "import cv2\n",
    "import numpy as np\n",
    "from matplotlib import pyplot as plt"
   ]
  },
  {
   "cell_type": "markdown",
   "id": "a494ff1e",
   "metadata": {},
   "source": [
    "## Importar Imagen"
   ]
  },
  {
   "cell_type": "code",
   "execution_count": null,
   "id": "18a08655",
   "metadata": {},
   "outputs": [],
   "source": [
    "img = cv2.cvtColor(cv2.imread('sponge.jpg'), cv2.COLOR_BGR2RGB) #cargar imagen original y conversion de espacio"
   ]
  },
  {
   "cell_type": "markdown",
   "id": "904409ce",
   "metadata": {},
   "source": [
    "## Reducir Imagen"
   ]
  },
  {
   "cell_type": "code",
   "execution_count": null,
   "id": "102fbf3a",
   "metadata": {},
   "outputs": [],
   "source": [
    "reduccion = 50 #porcentaje reduccion\n",
    "redu_size = float(reduccion/100) #conversion de unidades\n",
    "img2= cv2.resize(img, (0, 0), fx=0.5, fy=0.5) #reducir imagen y asignar a nueva\n",
    "superior = inferior = (img.shape[0] - img2.shape[0]) // 2 #calcular bordes del eje vertical\n",
    "izquierdo = derecho = (img.shape[1] - img2.shape[1]) // 2 #calcular bordes del eje horizontal\n",
    "img2bord = cv2.copyMakeBorder(img2, superior, inferior, izquierdo, derecho, cv2.BORDER_CONSTANT, value=[255, 255, 255]) #aplicar bordes para visualizar"
   ]
  },
  {
   "cell_type": "markdown",
   "id": "9a3f9469",
   "metadata": {},
   "source": [
    "## Imagen a blanco y negro"
   ]
  },
  {
   "cell_type": "code",
   "execution_count": null,
   "id": "b41b1bab",
   "metadata": {},
   "outputs": [],
   "source": [
    "img3 = cv2.cvtColor(img, cv2.COLOR_RGB2GRAY) #imagen blanco y negro"
   ]
  },
  {
   "cell_type": "markdown",
   "id": "fc867d67",
   "metadata": {},
   "source": [
    "## Invertir imagen eje vertical"
   ]
  },
  {
   "cell_type": "code",
   "execution_count": null,
   "id": "ea62f63c",
   "metadata": {},
   "outputs": [],
   "source": [
    "img4 = cv2.flip(img, 1) #imagen invertida por eje vertical"
   ]
  },
  {
   "cell_type": "markdown",
   "id": "1b4189c8",
   "metadata": {},
   "source": [
    "## Deteccion De Bordes"
   ]
  },
  {
   "cell_type": "code",
   "execution_count": null,
   "id": "19e8327e",
   "metadata": {},
   "outputs": [],
   "source": [
    "edge_kernel = np.array([[-1,-1,-1],[-1,8,-1],[-1,-1,-1]]) #crear edge_kernel\n",
    "img5 = cv2.filter2D(img, -1, edge_kernel)#aplicacion de bordes"
   ]
  },
  {
   "cell_type": "markdown",
   "id": "82ee768b",
   "metadata": {},
   "source": [
    "## Creacion del Plot"
   ]
  },
  {
   "cell_type": "code",
   "execution_count": null,
   "id": "b32a5c47",
   "metadata": {},
   "outputs": [],
   "source": [
    "fig, axs = plt.subplots(nrows = 4, ncols = 2, figsize = (8, 8))\n",
    "\n",
    "axs[0][0].imshow(img)\n",
    "axs[0][0].axis(\"off\")\n",
    "axs[0][0].set_title('Imagen Original')\n",
    "\n",
    "axs[0][1].imshow(img2bord)\n",
    "axs[0][1].axis(\"off\")\n",
    "axs[0][1].set_title('Imagen reducida 50%')\n",
    "\n",
    "axs[1][0].imshow(img)\n",
    "axs[1][0].axis(\"off\")\n",
    "\n",
    "axs[1][1].imshow(img3, cmap=\"gray\")\n",
    "axs[1][1].axis(\"off\")\n",
    "axs[1][1].set_title('Imagen Escala Grises')\n",
    "\n",
    "axs[2][0].imshow(img)\n",
    "axs[2][0].axis(\"off\")\n",
    "\n",
    "axs[2][1].imshow(img4)\n",
    "axs[2][1].axis(\"off\")\n",
    "axs[2][1].set_title('Imagen invertida eje vertical')\n",
    "\n",
    "axs[3][0].imshow(img)\n",
    "axs[3][0].axis(\"off\")\n",
    "\n",
    "axs[3][1].imshow(img5)\n",
    "axs[3][1].axis(\"off\")\n",
    "axs[3][1].set_title('Imagen con deteccion de bordes')"
   ]
  },
  {
   "cell_type": "markdown",
   "id": "19292183",
   "metadata": {},
   "source": [
    "## Imprimir figura"
   ]
  },
  {
   "cell_type": "code",
   "execution_count": null,
   "id": "db7ca01d",
   "metadata": {},
   "outputs": [],
   "source": [
    "plt.show()"
   ]
  }
 ],
 "metadata": {
  "kernelspec": {
   "display_name": "Python 3 (ipykernel)",
   "language": "python",
   "name": "python3"
  },
  "language_info": {
   "codemirror_mode": {
    "name": "ipython",
    "version": 3
   },
   "file_extension": ".py",
   "mimetype": "text/x-python",
   "name": "python",
   "nbconvert_exporter": "python",
   "pygments_lexer": "ipython3",
   "version": "3.9.13"
  }
 },
 "nbformat": 4,
 "nbformat_minor": 5
}
